{
 "cells": [
  {
   "cell_type": "markdown",
   "metadata": {},
   "source": [
    "# TransformationUtils Tutorial\n",
    "\n",
    "This tutorial uses croatia directory"
   ]
  },
  {
   "cell_type": "code",
   "execution_count": 1,
   "metadata": {},
   "outputs": [],
   "source": [
    "import sys\n",
    "import os\n",
    "import pandas as pd\n",
    "\n",
    "sys.path.append(os.path.join('utils'))\n",
    "\n",
    "from TransformationUtils import ExcelYAMLHandler\n",
    "from TransformationUtils import StrategyCSVHandler\n"
   ]
  },
  {
   "cell_type": "code",
   "execution_count": 2,
   "metadata": {},
   "outputs": [],
   "source": [
    "%load_ext autoreload\n",
    "%autoreload 2"
   ]
  },
  {
   "cell_type": "markdown",
   "metadata": {},
   "source": [
    "## Create New Yaml Files from your Excel File\n",
    "\n",
    "Steps:\n",
    "\n",
    "1. Make sure you created a folder with the country name.\n",
    "2. Create a folder called data where you will store the excel file.\n",
    "3. Your excel file has to have a sheet called yaml with the standard format we have established.\n",
    "4. Create an instance of the ExcelYAMLHandler class passing the path to the excel file and the directory path where the default transformation yamls are stored.\n",
    "5. Execute the process_yaml_files() method to generate yaml files for each strategy in your excel file.\n",
    "\n",
    "\n",
    "NOTE: You need to have the transformations dir created with the default transformations yaml files in it."
   ]
  },
  {
   "cell_type": "code",
   "execution_count": 3,
   "metadata": {},
   "outputs": [],
   "source": [
    "excel_yaml_handler = ExcelYAMLHandler(excel_file='data/ssp_croatia_transformation_cw_vf.xlsx', yaml_directory='transformations')"
   ]
  },
  {
   "cell_type": "code",
   "execution_count": null,
   "metadata": {},
   "outputs": [],
   "source": [
    "excel_yaml_handler.process_yaml_files()"
   ]
  },
  {
   "cell_type": "markdown",
   "metadata": {},
   "source": [
    "## Update the strategies csv with new strategies\n",
    "\n",
    "Steps:\n",
    "1. Create an instance of the StrategyCSVHandler by passing the path where the strategy_definitions.csv is stored, the path of the directory where the transformations yaml files are stored, the path where the strategy_mapping.yaml is stored.\n",
    "2. Use the method .add_row() to create new strategies by passing the following parameters:\n",
    "    - strategy_group: for instance PFLO, TRNS, LVST, etc.\n",
    "    - strategy_description: a short description of what the strategy does.\n",
    "    - strategy_suffix: the suffix of your yaml files associated to that strategy\n",
    "    - custom_id: this allows you to set a custom strategy_id but it is optional, by default is set to None.\n",
    "\n",
    "NOTE 1: The strategy_id is determined automatically depending on the strategy_group, to check the mapping please refer to utils/strategy_mapping.yaml\n",
    "\n",
    "NOTE 2: You need to have a strategy_definistions.csv created.\n",
    "\n",
    "\n"
   ]
  },
  {
   "cell_type": "code",
   "execution_count": 6,
   "metadata": {},
   "outputs": [
    {
     "name": "stdout",
     "output_type": "stream",
     "text": [
      "Error: strategy_code PFLO:CURRENT_MEASURES already exists. Please use a different code or modify the existing one.\n",
      "Error: strategy_code PFLO:NDC already exists. Please use a different code or modify the existing one.\n",
      "Error: strategy_code PFLO:ADDITIONAL_ACTIONS already exists. Please use a different code or modify the existing one.\n",
      "Data saved to croatia/transformations/strategy_definitions.csv\n"
     ]
    }
   ],
   "source": [
    "csv_handler = StrategyCSVHandler('croatia/transformations/strategy_definitions.csv', 'croatia/transformations', 'utils/strategy_mapping.yaml')\n",
    "csv_handler.add_row('PFLO', 'Croatia current measures', 'current_measures')\n",
    "csv_handler.add_row('PFLO', 'Croatia ndc commitments', 'ndc')\n",
    "csv_handler.add_row('PFLO', 'Croatia additional actions scenario', 'additional_actions')\n",
    "csv_handler.save_csv()"
   ]
  },
  {
   "cell_type": "code",
   "execution_count": null,
   "metadata": {},
   "outputs": [],
   "source": []
  },
  {
   "cell_type": "code",
   "execution_count": null,
   "metadata": {},
   "outputs": [],
   "source": []
  }
 ],
 "metadata": {
  "kernelspec": {
   "display_name": "ssp_env",
   "language": "python",
   "name": "python3"
  },
  "language_info": {
   "codemirror_mode": {
    "name": "ipython",
    "version": 3
   },
   "file_extension": ".py",
   "mimetype": "text/x-python",
   "name": "python",
   "nbconvert_exporter": "python",
   "pygments_lexer": "ipython3",
   "version": "3.11.10"
  }
 },
 "nbformat": 4,
 "nbformat_minor": 2
}
