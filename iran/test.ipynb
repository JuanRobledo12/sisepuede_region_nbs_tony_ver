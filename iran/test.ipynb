{
 "cells": [
  {
   "cell_type": "code",
   "execution_count": 1,
   "metadata": {},
   "outputs": [
    {
     "name": "stdout",
     "output_type": "stream",
     "text": [
      "Files missing 'magnitude' under 'parameters':\n",
      "transformation_wali_inc_treatment_industrial.yaml\n",
      "transformation_wali_inc_treatment_urban_lower.yaml\n",
      "transformation_wali_inc_treatment_rural.yaml\n",
      "transformation_wali_inc_treatment_urban_lowest.yaml\n",
      "config_general.yaml\n",
      "transformation_pflo_inc_healthier_diets.yaml\n",
      "transformation_trns_shift_mode_regional.yaml\n",
      "transformation_inen_shift_fuel_heat.yaml\n",
      "transformation_entc_least_cost_solution.yaml\n",
      "transformation_wali_inc_treatment_industrial_lower.yaml\n",
      "transformation_wali_inc_treatment_rural_lower.yaml\n",
      "transformation_lsmm_inc_management_poultry.yaml\n",
      "transformation_wali_inc_treatment_urban.yaml\n",
      "transformation_lsmm_inc_management_cattle_pigs.yaml\n",
      "transformation_lsmm_inc_management_other.yaml\n",
      "transformation_lvst_dec_enteric_fermentation.yaml\n",
      "transformation_waso_inc_anaerobic_and_compost.yaml\n",
      "transformation_agrc_inc_conservation_agriculture.yaml\n",
      "transformation_pflo_inc_ind_ccs.yaml\n",
      "transformation_wali_inc_treatment_rural_lowest.yaml\n",
      "transformation_wali_inc_treatment_industrial_lowest.yaml\n"
     ]
    }
   ],
   "source": [
    "import os\n",
    "import yaml\n",
    "\n",
    "def check_magnitude_in_yaml(directory_path):\n",
    "    # List to store YAML files missing 'magnitude' under 'parameters'\n",
    "    missing_magnitude_files = []\n",
    "\n",
    "    # Iterate over all files in the directory\n",
    "    for filename in os.listdir(directory_path):\n",
    "        if filename.endswith('.yaml') or filename.endswith('.yml'):\n",
    "            file_path = os.path.join(directory_path, filename)\n",
    "            \n",
    "            # Open and load the YAML file\n",
    "            with open(file_path, 'r') as file:\n",
    "                try:\n",
    "                    yaml_content = yaml.safe_load(file)\n",
    "                    \n",
    "                    # Check for 'parameters' and then for 'magnitude' within it\n",
    "                    if 'parameters' in yaml_content:\n",
    "                        parameters = yaml_content['parameters']\n",
    "                        if 'magnitude' not in parameters:\n",
    "                            missing_magnitude_files.append(filename)\n",
    "                    else:\n",
    "                        missing_magnitude_files.append(filename)\n",
    "                \n",
    "                except yaml.YAMLError as e:\n",
    "                    print(f\"Error reading {filename}: {e}\")\n",
    "    \n",
    "    # Print or return the list of files missing 'magnitude' under 'parameters'\n",
    "    if missing_magnitude_files:\n",
    "        print(\"Files missing 'magnitude' under 'parameters':\")\n",
    "        for file in missing_magnitude_files:\n",
    "            print(file)\n",
    "    else:\n",
    "        print(\"All files contain 'magnitude' under 'parameters'.\")\n",
    "\n",
    "# Example usage\n",
    "directory_path = 'transformations'  # Replace with your directory path\n",
    "check_magnitude_in_yaml(directory_path)\n"
   ]
  },
  {
   "cell_type": "code",
   "execution_count": null,
   "metadata": {},
   "outputs": [],
   "source": []
  }
 ],
 "metadata": {
  "kernelspec": {
   "display_name": "ssp_env",
   "language": "python",
   "name": "python3"
  },
  "language_info": {
   "codemirror_mode": {
    "name": "ipython",
    "version": 3
   },
   "file_extension": ".py",
   "mimetype": "text/x-python",
   "name": "python",
   "nbconvert_exporter": "python",
   "pygments_lexer": "ipython3",
   "version": "3.11.10"
  }
 },
 "nbformat": 4,
 "nbformat_minor": 2
}
