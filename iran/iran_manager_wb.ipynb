{
 "cells": [
  {
   "cell_type": "code",
   "execution_count": 1,
   "id": "2a29eb0a-00ee-494d-9b3d-25da412bf1d5",
   "metadata": {},
   "outputs": [],
   "source": [
    "import copy\n",
    "import datetime as dt\n",
    "import importlib # needed so that we can reload packages\n",
    "import matplotlib.pyplot as plt\n",
    "import os, os.path\n",
    "import numpy as np\n",
    "import pandas as pd\n",
    "import pathlib\n",
    "import sys\n",
    "import time\n",
    "from typing import Union\n",
    "import warnings\n",
    "warnings.filterwarnings(\"ignore\")\n",
    "\n",
    "    \n",
    "##  IMPORT SISEPUEDE EXAMPLES AND TRANSFORMERS\n",
    "\n",
    "from sisepuede.manager.sisepuede_examples import SISEPUEDEExamples\n",
    "from sisepuede.manager.sisepuede_file_structure import SISEPUEDEFileStructure\n",
    "import sisepuede.core.support_classes as sc\n",
    "import sisepuede.transformers as trf\n",
    "import sisepuede.utilities._toolbox as sf\n"
   ]
  },
  {
   "cell_type": "code",
   "execution_count": 59,
   "id": "2d5eecfd-a849-4363-ba4c-dad5d7f97946",
   "metadata": {},
   "outputs": [],
   "source": []
  },
  {
   "cell_type": "code",
   "execution_count": 66,
   "id": "62c6c558-ba2c-482b-8743-7c46bfb64924",
   "metadata": {},
   "outputs": [],
   "source": [
    "##  SETUP DIRECTORIES\n",
    "\n",
    "dir_cur = pathlib.Path(os.getcwd())\n",
    "dir_data = dir_cur.joinpath(\"data\")\n",
    "dir_transformations = dir_cur.joinpath(\"transformations\")\n",
    "\n",
    "\n",
    "##  SETUP FILES\n",
    "\n",
    "fp_data_base = dir_data.joinpath(\"iran_inputs_20241031.csv\")\n",
    "\n",
    "\n",
    "##  SETUP SOME SISEPUEDE STUFF\n",
    "\n",
    "file_struct = SISEPUEDEFileStructure()\n",
    "\n",
    "matt = file_struct.model_attributes\n",
    "regions = sc.Regions(matt)\n",
    "time_periods = sc.TimePeriods(matt)"
   ]
  },
  {
   "cell_type": "code",
   "execution_count": 22,
   "id": "b8a1e26f-7946-4f4f-a3b1-ff398c9fe211",
   "metadata": {},
   "outputs": [],
   "source": [
    "##  BUILD BASE INPUTS\n",
    "\n",
    "df_inputs_raw = pd.read_csv(fp_data_base)\n",
    "\n",
    "# pull example data to fill in gaps\n",
    "examples = SISEPUEDEExamples()\n",
    "df_inputs_example = examples.input_data_frame"
   ]
  },
  {
   "cell_type": "markdown",
   "id": "fb05e219-c587-44f9-8332-61ab03fca54a",
   "metadata": {},
   "source": [
    "###   Review fields that are different"
   ]
  },
  {
   "cell_type": "code",
   "execution_count": 23,
   "id": "ae32c39b-9a6f-4ec3-8317-6e356ba941fa",
   "metadata": {},
   "outputs": [
    {
     "data": {
      "text/plain": [
       "['region',\n",
       " 'ef_enfu_combustion_tonne_co2_per_tj_fuel_water',\n",
       " 'ef_enfu_stationary_combustion_tonne_ch4_per_tj_fuel_water',\n",
       " 'ef_enfu_stationary_combustion_tonne_n2o_per_tj_fuel_water',\n",
       " 'strategy_id',\n",
       " 'cost_enfu_fuel_ammonia_usd_per_tonne',\n",
       " 'ef_enfu_combustion_tonne_co2_per_tj_fuel_ammonia',\n",
       " 'ef_trns_mobile_combustion_water_borne_kg_n2o_per_tj_ammonia',\n",
       " 'ef_enfu_stationary_combustion_tonne_ch4_per_tj_fuel_ammonia',\n",
       " 'ef_enfu_stationary_combustion_tonne_n2o_per_tj_fuel_ammonia',\n",
       " 'exports_enfu_pj_fuel_ammonia',\n",
       " 'frac_enfu_fuel_demand_imported_pj_fuel_ammonia',\n",
       " 'nemomod_entc_capital_cost_fp_ammonia_production_mm_usd_per_gw',\n",
       " 'nemomod_entc_capital_cost_fp_hydrogen_reformation_ccs_mm_usd_per_gw',\n",
       " 'nemomod_entc_emissions_activity_ratio_fuel_production_fp_hydrogen_reformation_ccs_tonne_co2_per_tj',\n",
       " 'nemomod_entc_emissions_activity_ratio_scalar_fp_hydrogen_reformation_ccs_co2',\n",
       " 'nemomod_entc_fixed_cost_fp_ammonia_production_mm_usd_per_gw',\n",
       " 'nemomod_entc_fixed_cost_fp_hydrogen_reformation_ccs_mm_usd_per_gw',\n",
       " 'nemomod_entc_grid_power_constraint_mmm_usd',\n",
       " 'nemomod_entc_input_activity_ratio_fuel_production_fp_ammonia_production_electricity',\n",
       " 'nemomod_entc_input_activity_ratio_fuel_production_fp_ammonia_production_hydrogen',\n",
       " 'nemomod_entc_input_activity_ratio_fuel_production_fp_hydrogen_electrolysis_water',\n",
       " 'nemomod_entc_input_activity_ratio_fuel_production_fp_hydrogen_reformation_ccs_electricity',\n",
       " 'energydensity_gravimetric_enfu_gj_per_tonne_fuel_ammonia',\n",
       " 'energydensity_gravimetric_enfu_gj_per_tonne_fuel_water',\n",
       " 'frac_trns_fuelmix_water_borne_ammonia',\n",
       " 'nemomod_entc_output_activity_ratio_fuel_production_fp_ammonia_production_ammonia',\n",
       " 'nemomod_entc_output_activity_ratio_fuel_production_fp_hydrogen_reformation_ccs_hydrogen',\n",
       " 'nemomod_entc_frac_min_share_production_fp_hydrogen_reformation_ccs',\n",
       " 'nemomod_entc_input_activity_ratio_fuel_production_fp_hydrogen_reformation_ccs_natural_gas',\n",
       " 'nemomod_entc_input_activity_ratio_fuel_production_fp_hydrogen_reformation_ccs_oil']"
      ]
     },
     "execution_count": 23,
     "metadata": {},
     "output_type": "execute_result"
    }
   ],
   "source": [
    "[\n",
    "    x for x in df_inputs_example.columns if x not in df_inputs_raw.columns\n",
    "]"
   ]
  },
  {
   "cell_type": "code",
   "execution_count": 17,
   "id": "5ae88367-74ef-4401-9c79-790f21ebff00",
   "metadata": {},
   "outputs": [],
   "source": [
    "##  SOME MANUAL FIXES FOR THE MOMENT\n",
    "\n",
    "df_inputs_example[\"exports_enfu_pj_fuel_ammonia\"] = 0\n"
   ]
  },
  {
   "cell_type": "markdown",
   "id": "f679ad3d-44dc-4afc-ba9c-d98fa9b79797",
   "metadata": {},
   "source": [
    "###   Build the file here\n",
    "\n",
    "- Drop unecessary fields\n",
    "- Use systematic keys/index fields\n",
    "- add region name"
   ]
  },
  {
   "cell_type": "code",
   "execution_count": 56,
   "id": "6b0164f5-f2ca-467b-b6ae-aa64ca03fc07",
   "metadata": {},
   "outputs": [],
   "source": [
    "fields_drop_example = [\n",
    "    x for x in [regions.key, matt.dim_strategy_id]\n",
    "    if x in df_inputs_example\n",
    "]\n",
    "\n",
    "fields_drop_raw = [\n",
    "    x for x in [\"iso_code3\", \"Year\"]\n",
    "    if x in df_inputs_example\n",
    "]\n",
    "\n",
    "df_inputs = sf.match_df_to_target_df(\n",
    "    df_inputs_example\n",
    "    .drop(\n",
    "        columns = fields_drop_example,\n",
    "    ),\n",
    "    df_inputs_raw\n",
    "    .drop(\n",
    "        columns = fields_drop_raw,\n",
    "    ),\n",
    "    [time_periods.field_time_period],\n",
    "    overwrite_only = False,\n",
    ")\n",
    "\n",
    "df_inputs[regions.key] = \"iran\""
   ]
  },
  {
   "cell_type": "markdown",
   "id": "91491c34-78de-4bf9-bed3-3d69613bace7",
   "metadata": {},
   "source": [
    "##  Let's try building transformations using this\n"
   ]
  },
  {
   "cell_type": "code",
   "execution_count": 60,
   "id": "8f21339f-7e93-4123-aa07-8a12f0316756",
   "metadata": {},
   "outputs": [],
   "source": [
    "transformers = trf.transformers.Transformers(\n",
    "    {},\n",
    "    df_input = df_inputs,\n",
    ")\n"
   ]
  },
  {
   "cell_type": "markdown",
   "id": "d93521f1-0fa0-4f09-9b6e-def5662df3d8",
   "metadata": {},
   "source": [
    "####  Instantiate some transformations"
   ]
  },
  {
   "cell_type": "code",
   "execution_count": 67,
   "id": "e85aa9b2-412c-44f7-b75f-3bc486202843",
   "metadata": {},
   "outputs": [],
   "source": [
    "# set an ouput path and instantiate\n",
    "trf.instantiate_default_strategy_directory(\n",
    "    transformers,\n",
    "    dir_transformations,\n",
    ")\n"
   ]
  },
  {
   "cell_type": "code",
   "execution_count": null,
   "id": "57bd1a2f-4f3e-4c78-b9a6-b00446ee44ad",
   "metadata": {},
   "outputs": [],
   "source": [
    "# then, you can load this back in after modifying (play around with it)\n",
    "transformations = trf.Transformations(\n",
    "    dir_transformations,\n",
    "    transformers = transformers,\n",
    ")\n",
    "transformations.attribute_transformation.table\n",
    "\n",
    "\n"
   ]
  },
  {
   "cell_type": "code",
   "execution_count": null,
   "id": "d20cd07a-feb1-4b4c-a755-43d0f639e3c7",
   "metadata": {},
   "outputs": [],
   "source": [
    "dir_transformations_out = dir_"
   ]
  }
 ],
 "metadata": {
  "kernelspec": {
   "display_name": "Python 3 (ipykernel)",
   "language": "python",
   "name": "python3"
  },
  "language_info": {
   "codemirror_mode": {
    "name": "ipython",
    "version": 3
   },
   "file_extension": ".py",
   "mimetype": "text/x-python",
   "name": "python",
   "nbconvert_exporter": "python",
   "pygments_lexer": "ipython3",
   "version": "3.11.10"
  }
 },
 "nbformat": 4,
 "nbformat_minor": 5
}
