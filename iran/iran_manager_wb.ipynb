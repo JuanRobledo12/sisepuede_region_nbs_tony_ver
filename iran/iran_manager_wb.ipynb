{
 "cells": [
  {
   "cell_type": "code",
   "execution_count": 1,
   "id": "2a29eb0a-00ee-494d-9b3d-25da412bf1d5",
   "metadata": {},
   "outputs": [],
   "source": [
    "import copy\n",
    "import datetime as dt\n",
    "import importlib # needed so that we can reload packages\n",
    "import matplotlib.pyplot as plt\n",
    "import os, os.path\n",
    "import numpy as np\n",
    "import pandas as pd\n",
    "import pathlib\n",
    "import sys\n",
    "import time\n",
    "from typing import Union\n",
    "import warnings\n",
    "warnings.filterwarnings(\"ignore\")\n",
    "\n",
    "    \n",
    "##  IMPORT SISEPUEDE EXAMPLES AND TRANSFORMERS\n",
    "\n",
    "from sisepuede.manager.sisepuede_examples import SISEPUEDEExamples\n",
    "from sisepuede.manager.sisepuede_file_structure import SISEPUEDEFileStructure\n",
    "import sisepuede.core.support_classes as sc\n",
    "import sisepuede.transformers as trf\n",
    "import sisepuede.utilities._toolbox as sf\n"
   ]
  },
  {
   "cell_type": "code",
   "execution_count": 59,
   "id": "2d5eecfd-a849-4363-ba4c-dad5d7f97946",
   "metadata": {},
   "outputs": [],
   "source": []
  },
  {
   "cell_type": "code",
   "execution_count": 66,
   "id": "62c6c558-ba2c-482b-8743-7c46bfb64924",
   "metadata": {},
   "outputs": [],
   "source": [
    "##  SETUP DIRECTORIES\n",
    "\n",
    "dir_cur = pathlib.Path(os.getcwd())\n",
    "dir_data = dir_cur.joinpath(\"data\")\n",
    "dir_transformations = dir_cur.joinpath(\"transformations\")\n",
    "\n",
    "\n",
    "##  SETUP FILES\n",
    "\n",
    "fp_data_base = dir_data.joinpath(\"iran_inputs_20241031.csv\")\n",
    "\n",
    "\n",
    "##  SETUP SOME SISEPUEDE STUFF\n",
    "\n",
    "file_struct = SISEPUEDEFileStructure()\n",
    "\n",
    "matt = file_struct.model_attributes\n",
    "regions = sc.Regions(matt)\n",
    "time_periods = sc.TimePeriods(matt)"
   ]
  },
  {
   "cell_type": "code",
   "execution_count": 22,
   "id": "b8a1e26f-7946-4f4f-a3b1-ff398c9fe211",
   "metadata": {},
   "outputs": [],
   "source": [
    "##  BUILD BASE INPUTS\n",
    "\n",
    "df_inputs_raw = pd.read_csv(fp_data_base)\n",
    "\n",
    "# pull example data to fill in gaps\n",
    "examples = SISEPUEDEExamples()\n",
    "df_inputs_example = examples.input_data_frame"
   ]
  },
  {
   "cell_type": "markdown",
   "id": "fb05e219-c587-44f9-8332-61ab03fca54a",
   "metadata": {},
   "source": [
    "###   Review fields that are different"
   ]
  },
  {
   "cell_type": "code",
   "execution_count": 23,
   "id": "ae32c39b-9a6f-4ec3-8317-6e356ba941fa",
   "metadata": {},
   "outputs": [
    {
     "data": {
      "text/plain": [
       "['region',\n",
       " 'ef_enfu_combustion_tonne_co2_per_tj_fuel_water',\n",
       " 'ef_enfu_stationary_combustion_tonne_ch4_per_tj_fuel_water',\n",
       " 'ef_enfu_stationary_combustion_tonne_n2o_per_tj_fuel_water',\n",
       " 'strategy_id',\n",
       " 'cost_enfu_fuel_ammonia_usd_per_tonne',\n",
       " 'ef_enfu_combustion_tonne_co2_per_tj_fuel_ammonia',\n",
       " 'ef_trns_mobile_combustion_water_borne_kg_n2o_per_tj_ammonia',\n",
       " 'ef_enfu_stationary_combustion_tonne_ch4_per_tj_fuel_ammonia',\n",
       " 'ef_enfu_stationary_combustion_tonne_n2o_per_tj_fuel_ammonia',\n",
       " 'exports_enfu_pj_fuel_ammonia',\n",
       " 'frac_enfu_fuel_demand_imported_pj_fuel_ammonia',\n",
       " 'nemomod_entc_capital_cost_fp_ammonia_production_mm_usd_per_gw',\n",
       " 'nemomod_entc_capital_cost_fp_hydrogen_reformation_ccs_mm_usd_per_gw',\n",
       " 'nemomod_entc_emissions_activity_ratio_fuel_production_fp_hydrogen_reformation_ccs_tonne_co2_per_tj',\n",
       " 'nemomod_entc_emissions_activity_ratio_scalar_fp_hydrogen_reformation_ccs_co2',\n",
       " 'nemomod_entc_fixed_cost_fp_ammonia_production_mm_usd_per_gw',\n",
       " 'nemomod_entc_fixed_cost_fp_hydrogen_reformation_ccs_mm_usd_per_gw',\n",
       " 'nemomod_entc_grid_power_constraint_mmm_usd',\n",
       " 'nemomod_entc_input_activity_ratio_fuel_production_fp_ammonia_production_electricity',\n",
       " 'nemomod_entc_input_activity_ratio_fuel_production_fp_ammonia_production_hydrogen',\n",
       " 'nemomod_entc_input_activity_ratio_fuel_production_fp_hydrogen_electrolysis_water',\n",
       " 'nemomod_entc_input_activity_ratio_fuel_production_fp_hydrogen_reformation_ccs_electricity',\n",
       " 'energydensity_gravimetric_enfu_gj_per_tonne_fuel_ammonia',\n",
       " 'energydensity_gravimetric_enfu_gj_per_tonne_fuel_water',\n",
       " 'frac_trns_fuelmix_water_borne_ammonia',\n",
       " 'nemomod_entc_output_activity_ratio_fuel_production_fp_ammonia_production_ammonia',\n",
       " 'nemomod_entc_output_activity_ratio_fuel_production_fp_hydrogen_reformation_ccs_hydrogen',\n",
       " 'nemomod_entc_frac_min_share_production_fp_hydrogen_reformation_ccs',\n",
       " 'nemomod_entc_input_activity_ratio_fuel_production_fp_hydrogen_reformation_ccs_natural_gas',\n",
       " 'nemomod_entc_input_activity_ratio_fuel_production_fp_hydrogen_reformation_ccs_oil']"
      ]
     },
     "execution_count": 23,
     "metadata": {},
     "output_type": "execute_result"
    }
   ],
   "source": [
    "[\n",
    "    x for x in df_inputs_example.columns if x not in df_inputs_raw.columns\n",
    "]"
   ]
  },
  {
   "cell_type": "code",
   "execution_count": 17,
   "id": "5ae88367-74ef-4401-9c79-790f21ebff00",
   "metadata": {},
   "outputs": [],
   "source": [
    "##  SOME MANUAL FIXES FOR THE MOMENT\n",
    "\n",
    "df_inputs_example[\"exports_enfu_pj_fuel_ammonia\"] = 0\n"
   ]
  },
  {
   "cell_type": "markdown",
   "id": "f679ad3d-44dc-4afc-ba9c-d98fa9b79797",
   "metadata": {},
   "source": [
    "###   Build the file here\n",
    "\n",
    "- Drop unecessary fields\n",
    "- Use systematic keys/index fields\n",
    "- add region name"
   ]
  },
  {
   "cell_type": "code",
   "execution_count": 56,
   "id": "6b0164f5-f2ca-467b-b6ae-aa64ca03fc07",
   "metadata": {},
   "outputs": [],
   "source": [
    "fields_drop_example = [\n",
    "    x for x in [regions.key, matt.dim_strategy_id]\n",
    "    if x in df_inputs_example\n",
    "]\n",
    "\n",
    "fields_drop_raw = [\n",
    "    x for x in [\"iso_code3\", \"Year\"]\n",
    "    if x in df_inputs_example\n",
    "]\n",
    "\n",
    "df_inputs = sf.match_df_to_target_df(\n",
    "    df_inputs_example\n",
    "    .drop(\n",
    "        columns = fields_drop_example,\n",
    "    ),\n",
    "    df_inputs_raw\n",
    "    .drop(\n",
    "        columns = fields_drop_raw,\n",
    "    ),\n",
    "    [time_periods.field_time_period],\n",
    "    overwrite_only = False,\n",
    ")\n",
    "\n",
    "df_inputs[regions.key] = \"iran\""
   ]
  },
  {
   "cell_type": "markdown",
   "id": "91491c34-78de-4bf9-bed3-3d69613bace7",
   "metadata": {},
   "source": [
    "##  Let's try building transformations using this\n"
   ]
  },
  {
   "cell_type": "code",
   "execution_count": 60,
   "id": "8f21339f-7e93-4123-aa07-8a12f0316756",
   "metadata": {},
   "outputs": [],
   "source": [
    "transformers = trf.transformers.Transformers(\n",
    "    {},\n",
    "    df_input = df_inputs,\n",
    ")\n"
   ]
  },
  {
   "cell_type": "markdown",
   "id": "d93521f1-0fa0-4f09-9b6e-def5662df3d8",
   "metadata": {},
   "source": [
    "####  Instantiate some transformations"
   ]
  },
  {
   "cell_type": "code",
   "execution_count": 67,
   "id": "e85aa9b2-412c-44f7-b75f-3bc486202843",
   "metadata": {},
   "outputs": [],
   "source": [
    "# set an ouput path and instantiate\n",
    "trf.instantiate_default_strategy_directory(\n",
    "    transformers,\n",
    "    dir_transformations,\n",
    ")\n"
   ]
  },
  {
   "cell_type": "markdown",
   "id": "14522780-2f45-4402-8889-365f1d319303",
   "metadata": {},
   "source": [
    "##  --HERE, CUSTOMIZE YOUR TRANSFORMATIONS AND STRATEGIES--\n",
    "- go to `dir_transformers` and edit config files and `strategy_definitions.csv`\n",
    "- then, go to next cell"
   ]
  },
  {
   "cell_type": "code",
   "execution_count": 69,
   "id": "57bd1a2f-4f3e-4c78-b9a6-b00446ee44ad",
   "metadata": {},
   "outputs": [],
   "source": [
    "# then, you can load this back in after modifying (play around with it)\n",
    "transformations = trf.Transformations(\n",
    "    dir_transformations,\n",
    "    transformers = transformers,\n",
    ")\n",
    "tab = transformations.attribute_transformation.table\n",
    "\n",
    "\n"
   ]
  },
  {
   "cell_type": "code",
   "execution_count": 76,
   "id": "d20cd07a-feb1-4b4c-a755-43d0f639e3c7",
   "metadata": {},
   "outputs": [
    {
     "name": "stdout",
     "output_type": "stream",
     "text": [
      "Strategies defined at /Users/usuario/git/sisepuede_region_nbs/iran/transformations initialized in 1.99 seconds\n"
     ]
    }
   ],
   "source": [
    "#  build the strategies -- will export to path\n",
    "t0 = time.time()\n",
    "strategies = trf.Strategies(\n",
    "    transformations,\n",
    "    export_path = \"transformations\",\n",
    "    prebuild = True,\n",
    ")\n",
    "\n",
    "t_elapse = sf.get_time_elapsed(t0)\n",
    "print(f\"Strategies defined at {strategies.transformations.dir_init} initialized in {t_elapse} seconds\")\n",
    "\n"
   ]
  },
  {
   "cell_type": "code",
   "execution_count": 77,
   "id": "937acf95-47c5-42d2-bec4-1960ca8bb3b1",
   "metadata": {},
   "outputs": [
    {
     "data": {
      "text/html": [
       "<div>\n",
       "<style scoped>\n",
       "    .dataframe tbody tr th:only-of-type {\n",
       "        vertical-align: middle;\n",
       "    }\n",
       "\n",
       "    .dataframe tbody tr th {\n",
       "        vertical-align: top;\n",
       "    }\n",
       "\n",
       "    .dataframe thead th {\n",
       "        text-align: right;\n",
       "    }\n",
       "</style>\n",
       "<table border=\"1\" class=\"dataframe\">\n",
       "  <thead>\n",
       "    <tr style=\"text-align: right;\">\n",
       "      <th></th>\n",
       "      <th>strategy_id</th>\n",
       "      <th>strategy_code</th>\n",
       "      <th>strategy</th>\n",
       "      <th>description</th>\n",
       "      <th>transformation_specification</th>\n",
       "      <th>baseline_strategy_id</th>\n",
       "    </tr>\n",
       "  </thead>\n",
       "  <tbody>\n",
       "    <tr>\n",
       "      <th>0</th>\n",
       "      <td>0</td>\n",
       "      <td>BASE</td>\n",
       "      <td>Strategy TX:BASE</td>\n",
       "      <td>NaN</td>\n",
       "      <td>TX:BASE</td>\n",
       "      <td>1</td>\n",
       "    </tr>\n",
       "    <tr>\n",
       "      <th>1</th>\n",
       "      <td>1000</td>\n",
       "      <td>AGRC:DEC_CH4_RICE</td>\n",
       "      <td>Singleton - Default Value - AGRC: Improve rice...</td>\n",
       "      <td>NaN</td>\n",
       "      <td>TX:AGRC:DEC_CH4_RICE</td>\n",
       "      <td>0</td>\n",
       "    </tr>\n",
       "    <tr>\n",
       "      <th>2</th>\n",
       "      <td>1001</td>\n",
       "      <td>AGRC:DEC_EXPORTS</td>\n",
       "      <td>Singleton - Default Value - AGRC: Decrease Exp...</td>\n",
       "      <td>NaN</td>\n",
       "      <td>TX:AGRC:DEC_EXPORTS</td>\n",
       "      <td>0</td>\n",
       "    </tr>\n",
       "    <tr>\n",
       "      <th>3</th>\n",
       "      <td>1002</td>\n",
       "      <td>AGRC:DEC_LOSSES_SUPPLY_CHAIN</td>\n",
       "      <td>Singleton - Default Value - AGRC: Reduce suppl...</td>\n",
       "      <td>NaN</td>\n",
       "      <td>TX:AGRC:DEC_LOSSES_SUPPLY_CHAIN</td>\n",
       "      <td>0</td>\n",
       "    </tr>\n",
       "    <tr>\n",
       "      <th>4</th>\n",
       "      <td>1003</td>\n",
       "      <td>AGRC:INC_CONSERVATION_AGRICULTURE</td>\n",
       "      <td>Singleton - Default Value - AGRC: Expand conse...</td>\n",
       "      <td>NaN</td>\n",
       "      <td>TX:AGRC:INC_CONSERVATION_AGRICULTURE</td>\n",
       "      <td>0</td>\n",
       "    </tr>\n",
       "    <tr>\n",
       "      <th>...</th>\n",
       "      <td>...</td>\n",
       "      <td>...</td>\n",
       "      <td>...</td>\n",
       "      <td>...</td>\n",
       "      <td>...</td>\n",
       "      <td>...</td>\n",
       "    </tr>\n",
       "    <tr>\n",
       "      <th>67</th>\n",
       "      <td>6001</td>\n",
       "      <td>PFLO:INC_IND_CCS</td>\n",
       "      <td>Singleton - Default Value - PFLO: Industrial c...</td>\n",
       "      <td>NaN</td>\n",
       "      <td>TX:PFLO:INC_IND_CCS</td>\n",
       "      <td>0</td>\n",
       "    </tr>\n",
       "    <tr>\n",
       "      <th>68</th>\n",
       "      <td>6002</td>\n",
       "      <td>PFLO:ALL</td>\n",
       "      <td>All Actions</td>\n",
       "      <td>All actions (unique by transformer)</td>\n",
       "      <td>TX:AGRC:DEC_CH4_RICE|TX:AGRC:DEC_EXPORTS|TX:AG...</td>\n",
       "      <td>0</td>\n",
       "    </tr>\n",
       "    <tr>\n",
       "      <th>69</th>\n",
       "      <td>6003</td>\n",
       "      <td>PFLO:CONSTRAINED</td>\n",
       "      <td>Constrained Climate Action</td>\n",
       "      <td>NaN</td>\n",
       "      <td>TX:AGRC:DEC_CH4_RICE_LOW|TX:AGRC:DEC_LOSSES_SU...</td>\n",
       "      <td>0</td>\n",
       "    </tr>\n",
       "    <tr>\n",
       "      <th>70</th>\n",
       "      <td>6004</td>\n",
       "      <td>PFLO:TECHNOLOGICAL_ADOPTION</td>\n",
       "      <td>Technology Adoption Scenario</td>\n",
       "      <td>NaN</td>\n",
       "      <td>TX:AGRC:DEC_CH4_RICE_LOW|TX:AGRC:DEC_LOSSES_SU...</td>\n",
       "      <td>0</td>\n",
       "    </tr>\n",
       "    <tr>\n",
       "      <th>71</th>\n",
       "      <td>6005</td>\n",
       "      <td>PFLO:UNCONSTRAINED</td>\n",
       "      <td>Unconstrained Climate Action</td>\n",
       "      <td>NaN</td>\n",
       "      <td>TX:AGRC:DEC_CH4_RICE|TX:AGRC:DEC_EXPORTS|TX:AG...</td>\n",
       "      <td>0</td>\n",
       "    </tr>\n",
       "  </tbody>\n",
       "</table>\n",
       "<p>72 rows × 6 columns</p>\n",
       "</div>"
      ],
      "text/plain": [
       "    strategy_id                      strategy_code  \\\n",
       "0             0                               BASE   \n",
       "1          1000                  AGRC:DEC_CH4_RICE   \n",
       "2          1001                   AGRC:DEC_EXPORTS   \n",
       "3          1002       AGRC:DEC_LOSSES_SUPPLY_CHAIN   \n",
       "4          1003  AGRC:INC_CONSERVATION_AGRICULTURE   \n",
       "..          ...                                ...   \n",
       "67         6001                   PFLO:INC_IND_CCS   \n",
       "68         6002                           PFLO:ALL   \n",
       "69         6003                   PFLO:CONSTRAINED   \n",
       "70         6004        PFLO:TECHNOLOGICAL_ADOPTION   \n",
       "71         6005                 PFLO:UNCONSTRAINED   \n",
       "\n",
       "                                             strategy  \\\n",
       "0                                    Strategy TX:BASE   \n",
       "1   Singleton - Default Value - AGRC: Improve rice...   \n",
       "2   Singleton - Default Value - AGRC: Decrease Exp...   \n",
       "3   Singleton - Default Value - AGRC: Reduce suppl...   \n",
       "4   Singleton - Default Value - AGRC: Expand conse...   \n",
       "..                                                ...   \n",
       "67  Singleton - Default Value - PFLO: Industrial c...   \n",
       "68                                        All Actions   \n",
       "69                         Constrained Climate Action   \n",
       "70                       Technology Adoption Scenario   \n",
       "71                       Unconstrained Climate Action   \n",
       "\n",
       "                            description  \\\n",
       "0                                   NaN   \n",
       "1                                   NaN   \n",
       "2                                   NaN   \n",
       "3                                   NaN   \n",
       "4                                   NaN   \n",
       "..                                  ...   \n",
       "67                                  NaN   \n",
       "68  All actions (unique by transformer)   \n",
       "69                                  NaN   \n",
       "70                                  NaN   \n",
       "71                                  NaN   \n",
       "\n",
       "                         transformation_specification  baseline_strategy_id  \n",
       "0                                             TX:BASE                     1  \n",
       "1                                TX:AGRC:DEC_CH4_RICE                     0  \n",
       "2                                 TX:AGRC:DEC_EXPORTS                     0  \n",
       "3                     TX:AGRC:DEC_LOSSES_SUPPLY_CHAIN                     0  \n",
       "4                TX:AGRC:INC_CONSERVATION_AGRICULTURE                     0  \n",
       "..                                                ...                   ...  \n",
       "67                                TX:PFLO:INC_IND_CCS                     0  \n",
       "68  TX:AGRC:DEC_CH4_RICE|TX:AGRC:DEC_EXPORTS|TX:AG...                     0  \n",
       "69  TX:AGRC:DEC_CH4_RICE_LOW|TX:AGRC:DEC_LOSSES_SU...                     0  \n",
       "70  TX:AGRC:DEC_CH4_RICE_LOW|TX:AGRC:DEC_LOSSES_SU...                     0  \n",
       "71  TX:AGRC:DEC_CH4_RICE|TX:AGRC:DEC_EXPORTS|TX:AG...                     0  \n",
       "\n",
       "[72 rows x 6 columns]"
      ]
     },
     "execution_count": 77,
     "metadata": {},
     "output_type": "execute_result"
    }
   ],
   "source": [
    "strategies.attribute_table"
   ]
  },
  {
   "cell_type": "markdown",
   "id": "960373ce-9c92-4998-87e1-79563b4b7800",
   "metadata": {},
   "source": [
    "##  Build our templates\n",
    "- let's use the default variable groupings for LHS"
   ]
  },
  {
   "cell_type": "code",
   "execution_count": 78,
   "id": "fb46000c-f47a-4fcd-ae46-44bf7fab2e99",
   "metadata": {},
   "outputs": [
    {
     "data": {
      "text/plain": [
       "0"
      ]
     },
     "execution_count": 78,
     "metadata": {},
     "output_type": "execute_result"
    }
   ],
   "source": [
    "df_vargroups = examples(\"variable_trajectory_group_specification\")\n",
    "\n",
    "strategies.build_strategies_to_templates(\n",
    "    df_trajgroup = df_vargroups, \n",
    "    include_simplex_group_as_trajgroup = True,\n",
    "    strategies = [0, 6003, 6004, 6005],\n",
    ")\n",
    "\n"
   ]
  },
  {
   "cell_type": "markdown",
   "id": "dec04da7-dd23-437c-bcc2-fd63541c44f5",
   "metadata": {},
   "source": [
    "# Finally, load SISEPUEDE so that we can run it"
   ]
  },
  {
   "cell_type": "code",
   "execution_count": null,
   "id": "749d1cae-41a3-4344-b0ff-db9d8d41a619",
   "metadata": {},
   "outputs": [
    {
     "name": "stderr",
     "output_type": "stream",
     "text": [
      "2024-10-31 22:57:08,927 - INFO - Successfully initialized SISEPUEDEFileStructure.\n",
      "2024-10-31 22:57:08,929 - WARNING - Missing key dict_dimensional_keys: key time_series not found. Tables that rely on the time_series will not have index checking.\n",
      "2024-10-31 22:57:08,929 - INFO - \tSetting export engine to 'sqlite'.\n",
      "2024-10-31 22:57:08,936 - WARNING - No index fields defined. Index field values will not be checked when writing to tables.\n",
      "2024-10-31 22:57:08,936 - INFO - Successfully instantiated table ANALYSIS_METADATA\n",
      "2024-10-31 22:57:08,937 - WARNING - No index fields found in ATTRIBUTE_DESIGN. Initializing index fields.\n",
      "2024-10-31 22:57:08,937 - INFO - Successfully instantiated table ATTRIBUTE_DESIGN\n",
      "2024-10-31 22:57:08,937 - WARNING - No index fields found in ATTRIBUTE_LHC_SAMPLES_EXOGENOUS_UNCERTAINTIES. Initializing index fields.\n",
      "2024-10-31 22:57:08,937 - INFO - Successfully instantiated table ATTRIBUTE_LHC_SAMPLES_EXOGENOUS_UNCERTAINTIES\n",
      "2024-10-31 22:57:08,938 - WARNING - No index fields found in ATTRIBUTE_LHC_SAMPLES_LEVER_EFFECTS. Initializing index fields.\n",
      "2024-10-31 22:57:08,938 - INFO - Successfully instantiated table ATTRIBUTE_LHC_SAMPLES_LEVER_EFFECTS\n",
      "2024-10-31 22:57:08,938 - WARNING - No index fields found in ATTRIBUTE_PRIMARY. Initializing index fields.\n",
      "2024-10-31 22:57:08,938 - INFO - Successfully instantiated table ATTRIBUTE_PRIMARY\n",
      "2024-10-31 22:57:08,938 - WARNING - No index fields found in ATTRIBUTE_STRATEGY. Initializing index fields.\n",
      "2024-10-31 22:57:08,939 - INFO - Successfully instantiated table ATTRIBUTE_STRATEGY\n",
      "2024-10-31 22:57:08,939 - WARNING - No index fields found in MODEL_BASE_INPUT_DATABASE. Initializing index fields.\n",
      "2024-10-31 22:57:08,939 - INFO - Successfully instantiated table MODEL_BASE_INPUT_DATABASE\n",
      "2024-10-31 22:57:08,939 - WARNING - No index fields found in MODEL_INPUT. Initializing index fields.\n",
      "2024-10-31 22:57:08,940 - INFO - Successfully instantiated table MODEL_INPUT\n",
      "2024-10-31 22:57:08,940 - WARNING - No index fields found in MODEL_OUTPUT. Initializing index fields.\n",
      "2024-10-31 22:57:08,940 - INFO - Successfully instantiated table MODEL_OUTPUT\n",
      "2024-10-31 22:57:08,940 - INFO - SISEPUEDEOutputDatabase successfully initialized IterativeDatabase.\n",
      "2024-10-31 22:57:08,940 - INFO - Successfully initialized database with:\n",
      "\ttype:\tsqlite\n",
      "\tanalysis id:\tsisepuede_run_2024-10-31T22:57:08.589791\n",
      "\tfp_base_output:\t/opt/miniconda3/envs/amber_is_your_energy/lib/python3.11/site-packages/sisepuede/out/sisepuede_run_2024-10-31T22;57;08.589791/sisepuede_run_2024-10-31T22;57;08.589791_output_database\n",
      "2024-10-31 22:57:08,941 - INFO - Running SISEPUEDE under template data mode 'calibrated'.\n",
      "2024-10-31 22:57:08,941 - INFO - Initializing BaseInputDatabase\n"
     ]
    }
   ],
   "source": [
    "import sisepuede as si\n",
    "\n",
    "ssp = si.SISEPUEDE(\n",
    "    \"calibrated\",\n",
    "    initialize_as_dummy = False, # no connection to Julia is initialized if set to True\n",
    "    regions = [\"iran\"],\n",
    "    strategies = strategies,\n",
    "    try_exogenous_xl_types_in_variable_specification = True,\n",
    ")"
   ]
  },
  {
   "cell_type": "code",
   "execution_count": null,
   "id": "3e24634e-19a9-457f-909f-be5696f1ed14",
   "metadata": {},
   "outputs": [],
   "source": []
  }
 ],
 "metadata": {
  "kernelspec": {
   "display_name": "Python 3 (ipykernel)",
   "language": "python",
   "name": "python3"
  },
  "language_info": {
   "codemirror_mode": {
    "name": "ipython",
    "version": 3
   },
   "file_extension": ".py",
   "mimetype": "text/x-python",
   "name": "python",
   "nbconvert_exporter": "python",
   "pygments_lexer": "ipython3",
   "version": "3.11.10"
  }
 },
 "nbformat": 4,
 "nbformat_minor": 5
}
