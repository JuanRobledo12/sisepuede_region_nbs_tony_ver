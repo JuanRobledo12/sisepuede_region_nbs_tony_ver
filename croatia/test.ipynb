{
 "cells": [
  {
   "cell_type": "code",
   "execution_count": 1,
   "metadata": {},
   "outputs": [],
   "source": [
    "import sys\n",
    "import os\n",
    "import pandas as pd\n",
    "\n",
    "# Use os.getcwd() instead of os.path.dirname(__file__) in a Jupyter notebook\n",
    "sys.path.append(os.path.join('../', 'utils'))\n",
    "\n",
    "from TransformationUtils import ExcelYAMLHandler\n",
    "from TransformationUtils import StrategyCSVHandler\n"
   ]
  },
  {
   "cell_type": "code",
   "execution_count": 2,
   "metadata": {},
   "outputs": [
    {
     "data": {
      "text/html": [
       "<div>\n",
       "<style scoped>\n",
       "    .dataframe tbody tr th:only-of-type {\n",
       "        vertical-align: middle;\n",
       "    }\n",
       "\n",
       "    .dataframe tbody tr th {\n",
       "        vertical-align: top;\n",
       "    }\n",
       "\n",
       "    .dataframe thead th {\n",
       "        text-align: right;\n",
       "    }\n",
       "</style>\n",
       "<table border=\"1\" class=\"dataframe\">\n",
       "  <thead>\n",
       "    <tr style=\"text-align: right;\">\n",
       "      <th></th>\n",
       "      <th>subsector</th>\n",
       "      <th>transformation_code</th>\n",
       "      <th>transformation_name</th>\n",
       "      <th>transformation_yaml_name</th>\n",
       "      <th>strategy_current_measures</th>\n",
       "      <th>strategy_ndc</th>\n",
       "      <th>strategy_additional_actions</th>\n",
       "    </tr>\n",
       "  </thead>\n",
       "  <tbody>\n",
       "    <tr>\n",
       "      <th>0</th>\n",
       "      <td>AGRC</td>\n",
       "      <td>TX:AGRC:DEC_CH4_RICE</td>\n",
       "      <td>Improve rice management</td>\n",
       "      <td>transformation_agrc_dec_ch4_rice.yaml</td>\n",
       "      <td>NaN</td>\n",
       "      <td>NaN</td>\n",
       "      <td>0.45</td>\n",
       "    </tr>\n",
       "    <tr>\n",
       "      <th>1</th>\n",
       "      <td>AGRC</td>\n",
       "      <td>TX:AGRC:DEC_EXPORTS</td>\n",
       "      <td>Decrease Exports</td>\n",
       "      <td>transformation_agrc_dec_exports.yaml</td>\n",
       "      <td>NaN</td>\n",
       "      <td>NaN</td>\n",
       "      <td>0.50</td>\n",
       "    </tr>\n",
       "    <tr>\n",
       "      <th>2</th>\n",
       "      <td>AGRC</td>\n",
       "      <td>TX:AGRC:DEC_LOSSES_SUPPLY_CHAIN</td>\n",
       "      <td>Reduce supply chain losses</td>\n",
       "      <td>transformation_agrc_dec_losses_supply_chain.yaml</td>\n",
       "      <td>NaN</td>\n",
       "      <td>0.5</td>\n",
       "      <td>0.80</td>\n",
       "    </tr>\n",
       "    <tr>\n",
       "      <th>3</th>\n",
       "      <td>AGRC</td>\n",
       "      <td>TX:AGRC:INC_CONSERVATION_AGRICULTURE</td>\n",
       "      <td>Expand conservation agriculture</td>\n",
       "      <td>transformation_agrc_inc_conservation_agricultu...</td>\n",
       "      <td>0.1</td>\n",
       "      <td>0.4</td>\n",
       "      <td>0.95</td>\n",
       "    </tr>\n",
       "    <tr>\n",
       "      <th>4</th>\n",
       "      <td>AGRC</td>\n",
       "      <td>TX:AGRC:INC_PRODUCTIVITY</td>\n",
       "      <td>Improve crop productivity</td>\n",
       "      <td>transformation_agrc_inc_productivity.yaml</td>\n",
       "      <td>NaN</td>\n",
       "      <td>NaN</td>\n",
       "      <td>0.20</td>\n",
       "    </tr>\n",
       "  </tbody>\n",
       "</table>\n",
       "</div>"
      ],
      "text/plain": [
       "  subsector                   transformation_code  \\\n",
       "0      AGRC                  TX:AGRC:DEC_CH4_RICE   \n",
       "1      AGRC                   TX:AGRC:DEC_EXPORTS   \n",
       "2      AGRC       TX:AGRC:DEC_LOSSES_SUPPLY_CHAIN   \n",
       "3      AGRC  TX:AGRC:INC_CONSERVATION_AGRICULTURE   \n",
       "4      AGRC              TX:AGRC:INC_PRODUCTIVITY   \n",
       "\n",
       "               transformation_name  \\\n",
       "0          Improve rice management   \n",
       "1                 Decrease Exports   \n",
       "2       Reduce supply chain losses   \n",
       "3  Expand conservation agriculture   \n",
       "4        Improve crop productivity   \n",
       "\n",
       "                            transformation_yaml_name  \\\n",
       "0              transformation_agrc_dec_ch4_rice.yaml   \n",
       "1               transformation_agrc_dec_exports.yaml   \n",
       "2   transformation_agrc_dec_losses_supply_chain.yaml   \n",
       "3  transformation_agrc_inc_conservation_agricultu...   \n",
       "4          transformation_agrc_inc_productivity.yaml   \n",
       "\n",
       "   strategy_current_measures  strategy_ndc  strategy_additional_actions  \n",
       "0                        NaN           NaN                         0.45  \n",
       "1                        NaN           NaN                         0.50  \n",
       "2                        NaN           0.5                         0.80  \n",
       "3                        0.1           0.4                         0.95  \n",
       "4                        NaN           NaN                         0.20  "
      ]
     },
     "execution_count": 2,
     "metadata": {},
     "output_type": "execute_result"
    }
   ],
   "source": [
    "df = pd.read_excel('data/ssp_croatia_transformation_cw_vf.xlsx', sheet_name='yaml')\n",
    "df.head()"
   ]
  },
  {
   "cell_type": "code",
   "execution_count": 3,
   "metadata": {},
   "outputs": [],
   "source": [
    "excel_yaml_handler = ExcelYAMLHandler(excel_file='data/ssp_croatia_transformation_cw_vf.xlsx', yaml_directory='transformations')"
   ]
  },
  {
   "cell_type": "code",
   "execution_count": 4,
   "metadata": {},
   "outputs": [],
   "source": [
    "# excel_yaml_handler.process_yaml_files()"
   ]
  },
  {
   "cell_type": "code",
   "execution_count": 5,
   "metadata": {},
   "outputs": [
    {
     "name": "stdout",
     "output_type": "stream",
     "text": [
      "Added new row: {'strategy_id': '6006', 'strategy_code': 'PFLO:CURRENT_MEASURES', 'strategy': 'current_measures', 'description': 'Croatia current measures', 'transformation_specification': 'TX:LSMM:INC_MANAGEMENT_OTHER_STRATEGY_CURRENT_MEASURES|TX:WASO:INC_CAPTURE_BIOGAS_STRATEGY_CURRENT_MEASURES|TX:INEN:INC_EFFICIENCY_PRODUCTION_STRATEGY_CURRENT_MEASURES|TX:TRNS:SHIFT_FUEL_LIGHT_DUTY_STRATEGY_CURRENT_MEASURES|TX:LSMM:INC_MANAGEMENT_POULTRY_STRATEGY_CURRENT_MEASURES|TX:LNDU:INC_REFORESTATION_STRATEGY_CURRENT_MEASURES|TX:WASO:INC_RECYCLING_STRATEGY_CURRENT_MEASURES|TX:WASO:INC_ENERGY_FROM_BIOGAS_STRATEGY_CURRENT_MEASURES|TX:IPPU:DEC_HFCS_STRATEGY_CURRENT_MEASURES|TX:SOIL:DEC_N_APPLIED_STRATEGY_CURRENT_MEASURES|TX:LSMM:INC_MANAGEMENT_CATTLE_PIGS_STRATEGY_CURRENT_MEASURES|TX:INEN:INC_EFFICIENCY_ENERGY_STRATEGY_CURRENT_MEASURES|TX:TRNS:INC_EFFICIENCY_NON_ELECTRIC_STRATEGY_CURRENT_MEASURES|TX:LSMM:INC_CAPTURE_BIOGAS_STRATEGY_CURRENT_MEASURES|TX:IPPU:DEC_OTHER_FCS_STRATEGY_CURRENT_MEASURES|TX:AGRC:INC_CONSERVATION_AGRICULTURE_STRATEGY_CURRENT_MEASURES|TX:LVST:DEC_ENTERIC_FERMENTATION_STRATEGY_CURRENT_MEASURES|TX:IPPU:DEC_PFCS_STRATEGY_CURRENT_MEASURES|TX:SCOE:SHIFT_FUEL_HEAT_STRATEGY_CURRENT_MEASURES|TX:TRNS:SHIFT_MODE_FREIGHT_STRATEGY_CURRENT_MEASURES|TX:LNDU:DEC_SOC_LOSS_PASTURES_STRATEGY_CURRENT_MEASURES|TX:ENTC:TARGET_RENEWABLE_ELEC_STRATEGY_CURRENT_MEASURES|TX:PFLO:INC_HEALTHIER_DIETS_STRATEGY_CURRENT_MEASURES'}\n",
      "Added new row: {'strategy_id': '6007', 'strategy_code': 'PFLO:NDC', 'strategy': 'ndc', 'description': 'Croatia ndc commitments', 'transformation_specification': 'TX:TRNS:SHIFT_MODE_REGIONAL_STRATEGY_NDC|TX:TRNS:SHIFT_FUEL_MEDIUM_DUTY_STRATEGY_NDC|TX:TRNS:INC_EFFICIENCY_ELECTRIC_STRATEGY_NDC|TX:IPPU:DEC_CLINKER_STRATEGY_NDC|TX:TRNS:SHIFT_FUEL_LIGHT_DUTY_STRATEGY_NDC|TX:LSMM:INC_CAPTURE_BIOGAS_STRATEGY_NDC|TX:TRDE:DEC_DEMAND_STRATEGY_NDC|TX:TRNS:INC_OCCUPANCY_LIGHT_DUTY_STRATEGY_NDC|TX:WASO:INC_RECYCLING_STRATEGY_NDC|TX:LNDU:INC_REFORESTATION_STRATEGY_NDC|TX:SCOE:SHIFT_FUEL_HEAT_STRATEGY_NDC|TX:LSMM:INC_MANAGEMENT_CATTLE_PIGS_STRATEGY_NDC|TX:WASO:INC_CAPTURE_BIOGAS_STRATEGY_NDC|TX:TRNS:SHIFT_FUEL_RAIL_STRATEGY_NDC|TX:IPPU:DEC_OTHER_FCS_STRATEGY_NDC|TX:INEN:INC_EFFICIENCY_ENERGY_STRATEGY_NDC|TX:ENTC:DEC_LOSSES_STRATEGY_NDC|TX:AGRC:INC_CONSERVATION_AGRICULTURE_STRATEGY_NDC|TX:WASO:INC_ENERGY_FROM_BIOGAS_STRATEGY_NDC|TX:IPPU:DEC_PFCS_STRATEGY_NDC|TX:IPPU:DEC_HFCS_STRATEGY_NDC|TX:TRNS:SHIFT_FUEL_MARITIME_STRATEGY_NDC|TX:SCOE:DEC_DEMAND_HEAT_STRATEGY_NDC|TX:LSMM:INC_MANAGEMENT_OTHER_STRATEGY_NDC|TX:TRNS:SHIFT_MODE_PASSENGER_STRATEGY_NDC|TX:PFLO:INC_HEALTHIER_DIETS_STRATEGY_NDC|TX:LVST:DEC_ENTERIC_FERMENTATION_STRATEGY_NDC|TX:INEN:INC_EFFICIENCY_PRODUCTION_STRATEGY_NDC|TX:SOIL:DEC_N_APPLIED_STRATEGY_NDC|TX:IPPU:DEC_N2O_STRATEGY_NDC|TX:TRNS:SHIFT_MODE_FREIGHT_STRATEGY_NDC|TX:AGRC:DEC_LOSSES_SUPPLY_CHAIN_STRATEGY_NDC|TX:WASO:DEC_CONSUMER_FOOD_WASTE_STRATEGY_NDC|TX:ENTC:TARGET_RENEWABLE_ELEC_STRATEGY_NDC|TX:LNDU:INC_SILVOPASTURE_STRATEGY_NDC|TX:LNDU:DEC_SOC_LOSS_PASTURES_STRATEGY_NDC|TX:SCOE:INC_EFFICIENCY_APPLIANCE_STRATEGY_NDC|TX:TRNS:INC_EFFICIENCY_NON_ELECTRIC_STRATEGY_NDC|TX:WASO:INC_LANDFILLING_STRATEGY_NDC|TX:LSMM:INC_MANAGEMENT_POULTRY_STRATEGY_NDC'}\n",
      "Added new row: {'strategy_id': '6008', 'strategy_code': 'PFLO:ADDITIONAL_ACTIONS', 'strategy': 'additional_actions', 'description': 'Croatia additional actions scenario', 'transformation_specification': 'TX:WASO:INC_LANDFILLING_STRATEGY_ADDITIONAL_ACTIONS|TX:FGTV:INC_FLARE_STRATEGY_ADDITIONAL_ACTIONS|TX:ENTC:TARGET_CLEAN_HYDROGEN_STRATEGY_ADDITIONAL_ACTIONS|TX:AGRC:INC_CONSERVATION_AGRICULTURE_STRATEGY_ADDITIONAL_ACTIONS|TX:WALI:INC_TREATMENT_URBAN_STRATEGY_ADDITIONAL_ACTIONS|TX:TRNS:SHIFT_MODE_REGIONAL_STRATEGY_ADDITIONAL_ACTIONS|TX:LSMM:INC_CAPTURE_BIOGAS_STRATEGY_ADDITIONAL_ACTIONS|TX:SOIL:DEC_LIME_APPLIED_STRATEGY_ADDITIONAL_ACTIONS|TX:WASO:INC_RECYCLING_STRATEGY_ADDITIONAL_ACTIONS|TX:WASO:INC_CAPTURE_BIOGAS_STRATEGY_ADDITIONAL_ACTIONS|TX:IPPU:DEC_HFCS_STRATEGY_ADDITIONAL_ACTIONS|TX:WASO:INC_ENERGY_FROM_BIOGAS_STRATEGY_ADDITIONAL_ACTIONS|TX:SCOE:DEC_DEMAND_HEAT_STRATEGY_ADDITIONAL_ACTIONS|TX:WALI:INC_TREATMENT_RURAL_STRATEGY_ADDITIONAL_ACTIONS|TX:IPPU:DEC_OTHER_FCS_STRATEGY_ADDITIONAL_ACTIONS|TX:SCOE:INC_EFFICIENCY_APPLIANCE_STRATEGY_ADDITIONAL_ACTIONS|TX:PFLO:INC_HEALTHIER_DIETS_STRATEGY_ADDITIONAL_ACTIONS|TX:TRNS:INC_EFFICIENCY_NON_ELECTRIC_STRATEGY_ADDITIONAL_ACTIONS|TX:LSMM:INC_MANAGEMENT_OTHER_STRATEGY_ADDITIONAL_ACTIONS|TX:ENTC:DEC_LOSSES_STRATEGY_ADDITIONAL_ACTIONS|TX:WALI:INC_TREATMENT_INDUSTRIAL_STRATEGY_ADDITIONAL_ACTIONS|TX:IPPU:DEC_N2O_STRATEGY_ADDITIONAL_ACTIONS|TX:IPPU:DEC_CLINKER_STRATEGY_ADDITIONAL_ACTIONS|TX:INEN:INC_EFFICIENCY_ENERGY_STRATEGY_ADDITIONAL_ACTIONS|TX:LVST:DEC_ENTERIC_FERMENTATION_STRATEGY_ADDITIONAL_ACTIONS|TX:TRNS:SHIFT_FUEL_RAIL_STRATEGY_ADDITIONAL_ACTIONS|TX:LNDU:INC_REFORESTATION_STRATEGY_ADDITIONAL_ACTIONS|TX:TRDE:DEC_DEMAND_STRATEGY_ADDITIONAL_ACTIONS|TX:TRNS:SHIFT_MODE_PASSENGER_STRATEGY_ADDITIONAL_ACTIONS|TX:TRWW:INC_COMPLIANCE_SEPTIC_STRATEGY_ADDITIONAL_ACTIONS|TX:LSMM:INC_MANAGEMENT_POULTRY_STRATEGY_ADDITIONAL_ACTIONS|TX:WASO:DEC_CONSUMER_FOOD_WASTE_STRATEGY_ADDITIONAL_ACTIONS|TX:INEN:INC_EFFICIENCY_PRODUCTION_STRATEGY_ADDITIONAL_ACTIONS|TX:LSMM:INC_MANAGEMENT_CATTLE_PIGS_STRATEGY_ADDITIONAL_ACTIONS|TX:FGTV:DEC_LEAKS_STRATEGY_ADDITIONAL_ACTIONS|TX:AGRC:INC_PRODUCTIVITY_STRATEGY_ADDITIONAL_ACTIONS|TX:TRNS:SHIFT_MODE_FREIGHT_STRATEGY_ADDITIONAL_ACTIONS|TX:LVST:DEC_EXPORTS_STRATEGY_ADDITIONAL_ACTIONS|TX:TRNS:SHIFT_FUEL_MARITIME_STRATEGY_ADDITIONAL_ACTIONS|TX:ENTC:TARGET_RENEWABLE_ELEC_STRATEGY_ADDITIONAL_ACTIONS|TX:TRNS:SHIFT_FUEL_LIGHT_DUTY_STRATEGY_ADDITIONAL_ACTIONS|TX:TRNS:INC_OCCUPANCY_LIGHT_DUTY_STRATEGY_ADDITIONAL_ACTIONS|TX:INEN:SHIFT_FUEL_HEAT_STRATEGY_ADDITIONAL_ACTIONS|TX:LVST:INC_PRODUCTIVITY_STRATEGY_ADDITIONAL_ACTIONS|TX:LNDU:INC_SILVOPASTURE_STRATEGY_ADDITIONAL_ACTIONS|TX:TRNS:INC_EFFICIENCY_ELECTRIC_STRATEGY_ADDITIONAL_ACTIONS|TX:AGRC:DEC_EXPORTS_STRATEGY_ADDITIONAL_ACTIONS|TX:LNDU:DEC_SOC_LOSS_PASTURES_STRATEGY_ADDITIONAL_ACTIONS|TX:IPPU:DEC_DEMAND_STRATEGY_ADDITIONAL_ACTIONS|TX:TRNS:SHIFT_FUEL_MEDIUM_DUTY_STRATEGY_ADDITIONAL_ACTIONS|TX:WASO:INC_ENERGY_FROM_INCINERATION_STRATEGY_ADDITIONAL_ACTIONS|TX:SCOE:SHIFT_FUEL_HEAT_STRATEGY_ADDITIONAL_ACTIONS|TX:AGRC:DEC_LOSSES_SUPPLY_CHAIN_STRATEGY_ADDITIONAL_ACTIONS|TX:TRWW:INC_CAPTURE_BIOGAS_STRATEGY_ADDITIONAL_ACTIONS|TX:CCSQ:INC_CAPTURE_STRATEGY_ADDITIONAL_ACTIONS|TX:LNDU:DEC_DEFORESTATION_STRATEGY_ADDITIONAL_ACTIONS|TX:IPPU:DEC_PFCS_STRATEGY_ADDITIONAL_ACTIONS|TX:SOIL:DEC_N_APPLIED_STRATEGY_ADDITIONAL_ACTIONS|TX:AGRC:DEC_CH4_RICE_STRATEGY_ADDITIONAL_ACTIONS|TX:PFLO:INC_IND_CCS_STRATEGY_ADDITIONAL_ACTIONS'}\n",
      "Data saved to transformations/strategy_definitions.csv\n"
     ]
    }
   ],
   "source": [
    "csv_handler = StrategyCSVHandler('transformations/strategy_definitions.csv', 'transformations')\n",
    "csv_handler.add_row('6006', 'PFLO', 'Croatia current measures', 'current_measures')\n",
    "csv_handler.add_row('6007', 'PFLO', 'Croatia ndc commitments', 'ndc')\n",
    "csv_handler.add_row('6008', 'PFLO', 'Croatia additional actions scenario', 'additional_actions')\n",
    "csv_handler.save_csv()"
   ]
  },
  {
   "cell_type": "code",
   "execution_count": null,
   "metadata": {},
   "outputs": [],
   "source": []
  }
 ],
 "metadata": {
  "kernelspec": {
   "display_name": "ssp_env",
   "language": "python",
   "name": "python3"
  },
  "language_info": {
   "codemirror_mode": {
    "name": "ipython",
    "version": 3
   },
   "file_extension": ".py",
   "mimetype": "text/x-python",
   "name": "python",
   "nbconvert_exporter": "python",
   "pygments_lexer": "ipython3",
   "version": "3.11.10"
  }
 },
 "nbformat": 4,
 "nbformat_minor": 2
}
