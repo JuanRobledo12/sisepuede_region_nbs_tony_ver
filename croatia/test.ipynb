{
 "cells": [
  {
   "cell_type": "code",
   "execution_count": 1,
   "metadata": {},
   "outputs": [],
   "source": [
    "import sys\n",
    "import os\n",
    "import pandas as pd\n",
    "\n",
    "# Use os.getcwd() instead of os.path.dirname(__file__) in a Jupyter notebook\n",
    "sys.path.append(os.path.join('../', 'utils'))\n",
    "\n",
    "from ExcelTransformationHandler import ExcelYAMLHandler\n"
   ]
  },
  {
   "cell_type": "code",
   "execution_count": 2,
   "metadata": {},
   "outputs": [
    {
     "data": {
      "text/html": [
       "<div>\n",
       "<style scoped>\n",
       "    .dataframe tbody tr th:only-of-type {\n",
       "        vertical-align: middle;\n",
       "    }\n",
       "\n",
       "    .dataframe tbody tr th {\n",
       "        vertical-align: top;\n",
       "    }\n",
       "\n",
       "    .dataframe thead th {\n",
       "        text-align: right;\n",
       "    }\n",
       "</style>\n",
       "<table border=\"1\" class=\"dataframe\">\n",
       "  <thead>\n",
       "    <tr style=\"text-align: right;\">\n",
       "      <th></th>\n",
       "      <th>subsector</th>\n",
       "      <th>transformation_code</th>\n",
       "      <th>transformation_name</th>\n",
       "      <th>transformation_yaml_name</th>\n",
       "      <th>strategy_current_measures</th>\n",
       "      <th>strategy_ndc</th>\n",
       "      <th>strategy_additional_action</th>\n",
       "    </tr>\n",
       "  </thead>\n",
       "  <tbody>\n",
       "    <tr>\n",
       "      <th>0</th>\n",
       "      <td>AGRC</td>\n",
       "      <td>TX:AGRC:DEC_CH4_RICE</td>\n",
       "      <td>Improve rice management</td>\n",
       "      <td>transformation_agrc_dec_ch4_rice.yaml</td>\n",
       "      <td>NaN</td>\n",
       "      <td>NaN</td>\n",
       "      <td>0.45</td>\n",
       "    </tr>\n",
       "    <tr>\n",
       "      <th>1</th>\n",
       "      <td>AGRC</td>\n",
       "      <td>TX:AGRC:DEC_EXPORTS</td>\n",
       "      <td>Decrease Exports</td>\n",
       "      <td>transformation_agrc_dec_exports.yaml</td>\n",
       "      <td>NaN</td>\n",
       "      <td>NaN</td>\n",
       "      <td>0.50</td>\n",
       "    </tr>\n",
       "    <tr>\n",
       "      <th>2</th>\n",
       "      <td>AGRC</td>\n",
       "      <td>TX:AGRC:DEC_LOSSES_SUPPLY_CHAIN</td>\n",
       "      <td>Reduce supply chain losses</td>\n",
       "      <td>transformation_agrc_dec_losses_supply_chain.yaml</td>\n",
       "      <td>NaN</td>\n",
       "      <td>0.5</td>\n",
       "      <td>0.80</td>\n",
       "    </tr>\n",
       "    <tr>\n",
       "      <th>3</th>\n",
       "      <td>AGRC</td>\n",
       "      <td>TX:AGRC:INC_CONSERVATION_AGRICULTURE</td>\n",
       "      <td>Expand conservation agriculture</td>\n",
       "      <td>transformation_agrc_inc_conservation_agricultu...</td>\n",
       "      <td>0.1</td>\n",
       "      <td>0.4</td>\n",
       "      <td>0.95</td>\n",
       "    </tr>\n",
       "    <tr>\n",
       "      <th>4</th>\n",
       "      <td>AGRC</td>\n",
       "      <td>TX:AGRC:INC_PRODUCTIVITY</td>\n",
       "      <td>Improve crop productivity</td>\n",
       "      <td>transformation_agrc_inc_productivity.yaml</td>\n",
       "      <td>NaN</td>\n",
       "      <td>NaN</td>\n",
       "      <td>0.20</td>\n",
       "    </tr>\n",
       "  </tbody>\n",
       "</table>\n",
       "</div>"
      ],
      "text/plain": [
       "  subsector                   transformation_code  \\\n",
       "0      AGRC                  TX:AGRC:DEC_CH4_RICE   \n",
       "1      AGRC                   TX:AGRC:DEC_EXPORTS   \n",
       "2      AGRC       TX:AGRC:DEC_LOSSES_SUPPLY_CHAIN   \n",
       "3      AGRC  TX:AGRC:INC_CONSERVATION_AGRICULTURE   \n",
       "4      AGRC              TX:AGRC:INC_PRODUCTIVITY   \n",
       "\n",
       "               transformation_name  \\\n",
       "0          Improve rice management   \n",
       "1                 Decrease Exports   \n",
       "2       Reduce supply chain losses   \n",
       "3  Expand conservation agriculture   \n",
       "4        Improve crop productivity   \n",
       "\n",
       "                            transformation_yaml_name  \\\n",
       "0              transformation_agrc_dec_ch4_rice.yaml   \n",
       "1               transformation_agrc_dec_exports.yaml   \n",
       "2   transformation_agrc_dec_losses_supply_chain.yaml   \n",
       "3  transformation_agrc_inc_conservation_agricultu...   \n",
       "4          transformation_agrc_inc_productivity.yaml   \n",
       "\n",
       "   strategy_current_measures  strategy_ndc  strategy_additional_action  \n",
       "0                        NaN           NaN                        0.45  \n",
       "1                        NaN           NaN                        0.50  \n",
       "2                        NaN           0.5                        0.80  \n",
       "3                        0.1           0.4                        0.95  \n",
       "4                        NaN           NaN                        0.20  "
      ]
     },
     "execution_count": 2,
     "metadata": {},
     "output_type": "execute_result"
    }
   ],
   "source": [
    "df = pd.read_excel('data/ssp_croatia_transformation_cw_vf.xlsx', sheet_name='yaml')\n",
    "df.head()"
   ]
  },
  {
   "cell_type": "code",
   "execution_count": 3,
   "metadata": {},
   "outputs": [],
   "source": [
    "excel_yaml_handler = ExcelYAMLHandler(excel_file='data/ssp_croatia_transformation_cw_vf.xlsx', yaml_directory='transformations')"
   ]
  },
  {
   "cell_type": "code",
   "execution_count": 4,
   "metadata": {},
   "outputs": [
    {
     "name": "stdout",
     "output_type": "stream",
     "text": [
      "YAML file transformation_agrc_inc_conservation_agriculture.yaml for strategy strategy_current_measures set to default because it does not have magnitude attribute\n",
      "YAML file transformation_agrc_inc_conservation_agriculture.yaml for strategy strategy_ndc set to default because it does not have magnitude attribute\n",
      "YAML file transformation_agrc_inc_conservation_agriculture.yaml for strategy strategy_additional_action set to default because it does not have magnitude attribute\n",
      "YAML file transformation_inen_shift_fuel_heat.yaml for strategy strategy_additional_action set to default because it does not have magnitude attribute\n",
      "YAML file transformation_lsmm_inc_management_cattle_pigs.yaml for strategy strategy_current_measures set to default because it does not have magnitude attribute\n",
      "YAML file transformation_lsmm_inc_management_cattle_pigs.yaml for strategy strategy_ndc set to default because it does not have magnitude attribute\n",
      "YAML file transformation_lsmm_inc_management_cattle_pigs.yaml for strategy strategy_additional_action set to default because it does not have magnitude attribute\n",
      "YAML file transformation_lsmm_inc_management_other.yaml for strategy strategy_current_measures set to default because it does not have magnitude attribute\n",
      "YAML file transformation_lsmm_inc_management_other.yaml for strategy strategy_ndc set to default because it does not have magnitude attribute\n",
      "YAML file transformation_lsmm_inc_management_other.yaml for strategy strategy_additional_action set to default because it does not have magnitude attribute\n",
      "YAML file transformation_lsmm_inc_management_poultry.yaml for strategy strategy_current_measures set to default because it does not have magnitude attribute\n",
      "YAML file transformation_lsmm_inc_management_poultry.yaml for strategy strategy_ndc set to default because it does not have magnitude attribute\n",
      "YAML file transformation_lsmm_inc_management_poultry.yaml for strategy strategy_additional_action set to default because it does not have magnitude attribute\n",
      "YAML file transformation_lvst_dec_enteric_fermentation.yaml for strategy strategy_current_measures set to default because it does not have magnitude attribute\n",
      "YAML file transformation_lvst_dec_enteric_fermentation.yaml for strategy strategy_ndc set to default because it does not have magnitude attribute\n",
      "YAML file transformation_lvst_dec_enteric_fermentation.yaml for strategy strategy_additional_action set to default because it does not have magnitude attribute\n",
      "YAML file transformation_pflo_inc_healthier_diets.yaml for strategy strategy_current_measures set to default because it does not have magnitude attribute\n",
      "YAML file transformation_pflo_inc_healthier_diets.yaml for strategy strategy_ndc set to default because it does not have magnitude attribute\n",
      "YAML file transformation_pflo_inc_healthier_diets.yaml for strategy strategy_additional_action set to default because it does not have magnitude attribute\n",
      "YAML file transformation_pflo_inc_ind_ccs.yaml for strategy strategy_additional_action set to default because it does not have magnitude attribute\n",
      "YAML file transformation_trns_shift_mode_regional.yaml for strategy strategy_ndc set to default because it does not have magnitude attribute\n",
      "YAML file transformation_trns_shift_mode_regional.yaml for strategy strategy_additional_action set to default because it does not have magnitude attribute\n",
      "YAML file transformation_wali_inc_treatment_industrial.yaml for strategy strategy_additional_action set to default because it does not have magnitude attribute\n",
      "YAML file transformation_wali_inc_treatment_rural.yaml for strategy strategy_additional_action set to default because it does not have magnitude attribute\n",
      "YAML file transformation_wali_inc_treatment_urban.yaml for strategy strategy_additional_action set to default because it does not have magnitude attribute\n"
     ]
    }
   ],
   "source": [
    "excel_yaml_handler.process_yaml_files()"
   ]
  },
  {
   "cell_type": "code",
   "execution_count": null,
   "metadata": {},
   "outputs": [],
   "source": []
  }
 ],
 "metadata": {
  "kernelspec": {
   "display_name": "ssp_env",
   "language": "python",
   "name": "python3"
  },
  "language_info": {
   "codemirror_mode": {
    "name": "ipython",
    "version": 3
   },
   "file_extension": ".py",
   "mimetype": "text/x-python",
   "name": "python",
   "nbconvert_exporter": "python",
   "pygments_lexer": "ipython3",
   "version": "3.11.10"
  }
 },
 "nbformat": 4,
 "nbformat_minor": 2
}
